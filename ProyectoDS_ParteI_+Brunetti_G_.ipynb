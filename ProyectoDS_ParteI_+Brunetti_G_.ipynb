{
  "nbformat": 4,
  "nbformat_minor": 0,
  "metadata": {
    "colab": {
      "provenance": [],
      "authorship_tag": "ABX9TyPg4m42BqxwHs3n7f0ciKwt",
      "include_colab_link": true
    },
    "kernelspec": {
      "name": "python3",
      "display_name": "Python 3"
    },
    "language_info": {
      "name": "python"
    }
  },
  "cells": [
    {
      "cell_type": "markdown",
      "metadata": {
        "id": "view-in-github",
        "colab_type": "text"
      },
      "source": [
        "<a href=\"https://colab.research.google.com/github/GBrunetti/GB-dataset/blob/main/ProyectoDS_ParteI_%2BBrunetti_G_.ipynb\" target=\"_parent\"><img src=\"https://colab.research.google.com/assets/colab-badge.svg\" alt=\"Open In Colab\"/></a>"
      ]
    },
    {
      "cell_type": "markdown",
      "source": [
        "#DATASET ELEGIDO\n",
        "- BankChurners.csv\n",
        "\n",
        "# TEMA : ANÁLISIS Y PREDICCIÓN DE ABANDONO DE CLIENTES EN SERVICIOS DE TARJETAS DE CRÉDITO\n",
        "\n",
        "#*Abstract:*\n",
        "\n",
        "En la actualidad, la retención de clientes es un desafío clave para las empresas, especialmente en el\n",
        "sector de servicios financieros como el de tarjetas de crédito. El abandono de clientes, también conocido\n",
        "como churn, puede tener un impacto significativo en la rentabilidad y la reputación de una empresa. Por\n",
        "lo tanto, es crucial para las mismas comprender los factores que influyen en la decisión de un cliente de\n",
        "abandonar un servicio, a fin de desarrollar, por tanto,  estrategias proactivas y efectivas para prevenirlo.\n",
        "\n",
        "En este contexto, este trabajo se enfoca en el análisis y la predicción del abandonode clientes en servicios\n",
        "de tarjetas de crédito. El dataset seleccionado para dicho análisis contiene información detallada sobre\n",
        "10,000 clientes de una institución bancaria, incluyendo variables como edad, ingresos, estado civil, límite\n",
        "crédito, categoría de tarjeta de crédito, entre otros.\n",
        "\n",
        "El objetivo principal de este trabajo es desarrollar un modelo predictivo que pueda identificar con precisión\n",
        "a los clientes que tienen mayor probabilidad de abandonar el servicio. Para lograr esto, se realizará un\n",
        "análisis exhaustivo de las variables del dataset y su relación con la variable objetivo, Attrition_Flag, que\n",
        "indica si un cliente ha abandonado o no el servicio de tarjeta de crédito.\n",
        "\n",
        "Entre las variables más relevantes se encuentran la edad del cliente, la categoría de ingresos, el estado civil,\n",
        "el límite de crédito y la categoría de tarjeta de crédito. Estas variables proporcionan información valiosa para\n",
        "comprender el comportamiento de los clientes y su propensión al abandono.\n",
        "\n",
        "El dataset se obtuvo de una fuente confiable y está compuesto por aproximadamente el 16.07% de clientes que han\n",
        "abandonado el servicio, lo que presenta un desafío interesante para el entrenamiento del modelo predictivo.\n",
        "\n",
        "El objetivo del estudio cae por decantacion; se espera que este análisis y modelo predictivo pueda ser utilizado\n",
        "por la institución bancaria, a fin de tomar medidas proactivas no solo para retener a sus clientes,  sino tambien\n",
        "mejorar la satisfacción del mismo en general, lo que resultará en una mayor fidelizacion y, por tanto, un aumento\n",
        "en la rentabilidad.\n",
        "\n",
        "Concluyendo, el presente trabajo proporcionará una visión profunda sobre el abandono de clientes en servicios de\n",
        "tarjetas de crédito, y cómo las empresas pueden utilizar esta información para mejorar su retención de clientes y\n",
        "por consiguiente su desempeño financiero.\n",
        "\n",
        "##PLANTEO DE HIPÓTESIS DE ÍNTERES SOBRE EL DATASET ELEGIDO\n",
        "1.\tHipótesis sobre la edad: Los clientes más jóvenes tienen una mayor probabilidad de abandonar el servicio de\n",
        "tarjeta de crédito, ya que pueden ser más propensos a cambiar de proveedor en busca de mejores ofertas o beneficios.\n",
        "\n",
        "2.\tHipótesis sobre la categoría de ingresos: Los clientes con ingresos más altos pueden tener una menor\n",
        "probabilidad de abandonar el servicio, ya que pueden estar más satisfechos con los beneficios y servicios ofrecidos\n",
        "por la institución financiera.\n",
        "\n",
        "3.\tHipótesis sobre el estado civil: Los clientes solteros y divorciados pueden tener una mayor probabilidad de abandonar el servicio en comparación con los clientes casados, ya que pueden tener una menor estabilidad o compromiso con la institución financiera.\n",
        "\n",
        "4.\tHipótesis sobre el límite de crédito: Los clientes con un límite de crédito más alto pueden tener una menor\n",
        "probabilidad de abandonar el servicio, ya que pueden estar más satisfechos con su capacidad de crédito y los beneficios\n",
        "asociados.\n",
        "\n",
        "5.\tHipótesis sobre la categoría de tarjeta de crédito: Los clientes con una categoría de tarjeta de crédito más alta\n",
        "por ejemplo, platino o dorada pueden tener una menor probabilidad de abandonar el servicio, ya que pueden valorar los\n",
        "beneficios adicionales asociados con estas categorias.\n",
        "\n",
        "\n",
        "ACLARACION:\n",
        "EN ESTA ETAPA DE AVANCE DEL PROYECTO SE TRABAJARA CON LAS PRIMERAS 3 HIPOTESIS PLANTEADAS.\n"
      ],
      "metadata": {
        "id": "NIw3fuW4dqfb"
      }
    },
    {
      "cell_type": "code",
      "source": [
        "import pandas as pd"
      ],
      "metadata": {
        "id": "szxu7BFoNlqK"
      },
      "execution_count": null,
      "outputs": []
    },
    {
      "cell_type": "code",
      "source": [
        "dtBC = 'https://raw.githubusercontent.com/GBrunetti/GB-dataset/main/BankChurners.csv'\n"
      ],
      "metadata": {
        "id": "uCD1Z12kRY2w"
      },
      "execution_count": null,
      "outputs": []
    },
    {
      "cell_type": "code",
      "source": [
        "datos = pd.read_csv(dtBC)"
      ],
      "metadata": {
        "id": "xlB2nyVTS2Hj"
      },
      "execution_count": null,
      "outputs": []
    },
    {
      "cell_type": "code",
      "source": [
        "datos.head()"
      ],
      "metadata": {
        "colab": {
          "base_uri": "https://localhost:8080/",
          "height": 342
        },
        "id": "tKCzU11zS9Fa",
        "outputId": "af3147f1-06af-4247-f73f-b08f53039399"
      },
      "execution_count": null,
      "outputs": [
        {
          "output_type": "execute_result",
          "data": {
            "text/plain": [
              "   CLIENTNUM     Attrition_Flag  Customer_Age Gender  Dependent_count  \\\n",
              "0  768805383  Existing Customer            45      M                3   \n",
              "1  818770008  Existing Customer            49      F                5   \n",
              "2  713982108  Existing Customer            51      M                3   \n",
              "3  769911858  Existing Customer            40      F                4   \n",
              "4  709106358  Existing Customer            40      M                3   \n",
              "\n",
              "  Education_Level Marital_Status Income_Category Card_Category  \\\n",
              "0     High School        Married     $60K - $80K          Blue   \n",
              "1        Graduate         Single  Less than $40K          Blue   \n",
              "2        Graduate        Married    $80K - $120K          Blue   \n",
              "3     High School        Unknown  Less than $40K          Blue   \n",
              "4      Uneducated        Married     $60K - $80K          Blue   \n",
              "\n",
              "   Months_on_book  ...  Credit_Limit  Total_Revolving_Bal  Avg_Open_To_Buy  \\\n",
              "0              39  ...       12691.0                  777          11914.0   \n",
              "1              44  ...        8256.0                  864           7392.0   \n",
              "2              36  ...        3418.0                    0           3418.0   \n",
              "3              34  ...        3313.0                 2517            796.0   \n",
              "4              21  ...        4716.0                    0           4716.0   \n",
              "\n",
              "   Total_Amt_Chng_Q4_Q1  Total_Trans_Amt  Total_Trans_Ct  Total_Ct_Chng_Q4_Q1  \\\n",
              "0                 1.335             1144              42                1.625   \n",
              "1                 1.541             1291              33                3.714   \n",
              "2                 2.594             1887              20                2.333   \n",
              "3                 1.405             1171              20                2.333   \n",
              "4                 2.175              816              28                2.500   \n",
              "\n",
              "   Avg_Utilization_Ratio  \\\n",
              "0                  0.061   \n",
              "1                  0.105   \n",
              "2                  0.000   \n",
              "3                  0.760   \n",
              "4                  0.000   \n",
              "\n",
              "   Naive_Bayes_Classifier_Attrition_Flag_Card_Category_Contacts_Count_12_mon_Dependent_count_Education_Level_Months_Inactive_12_mon_1  \\\n",
              "0                                           0.000093                                                                                    \n",
              "1                                           0.000057                                                                                    \n",
              "2                                           0.000021                                                                                    \n",
              "3                                           0.000134                                                                                    \n",
              "4                                           0.000022                                                                                    \n",
              "\n",
              "   Naive_Bayes_Classifier_Attrition_Flag_Card_Category_Contacts_Count_12_mon_Dependent_count_Education_Level_Months_Inactive_12_mon_2  \n",
              "0                                            0.99991                                                                                   \n",
              "1                                            0.99994                                                                                   \n",
              "2                                            0.99998                                                                                   \n",
              "3                                            0.99987                                                                                   \n",
              "4                                            0.99998                                                                                   \n",
              "\n",
              "[5 rows x 23 columns]"
            ],
            "text/html": [
              "\n",
              "  <div id=\"df-70686c05-1ccb-4a18-9927-ac8900cd2e24\" class=\"colab-df-container\">\n",
              "    <div>\n",
              "<style scoped>\n",
              "    .dataframe tbody tr th:only-of-type {\n",
              "        vertical-align: middle;\n",
              "    }\n",
              "\n",
              "    .dataframe tbody tr th {\n",
              "        vertical-align: top;\n",
              "    }\n",
              "\n",
              "    .dataframe thead th {\n",
              "        text-align: right;\n",
              "    }\n",
              "</style>\n",
              "<table border=\"1\" class=\"dataframe\">\n",
              "  <thead>\n",
              "    <tr style=\"text-align: right;\">\n",
              "      <th></th>\n",
              "      <th>CLIENTNUM</th>\n",
              "      <th>Attrition_Flag</th>\n",
              "      <th>Customer_Age</th>\n",
              "      <th>Gender</th>\n",
              "      <th>Dependent_count</th>\n",
              "      <th>Education_Level</th>\n",
              "      <th>Marital_Status</th>\n",
              "      <th>Income_Category</th>\n",
              "      <th>Card_Category</th>\n",
              "      <th>Months_on_book</th>\n",
              "      <th>...</th>\n",
              "      <th>Credit_Limit</th>\n",
              "      <th>Total_Revolving_Bal</th>\n",
              "      <th>Avg_Open_To_Buy</th>\n",
              "      <th>Total_Amt_Chng_Q4_Q1</th>\n",
              "      <th>Total_Trans_Amt</th>\n",
              "      <th>Total_Trans_Ct</th>\n",
              "      <th>Total_Ct_Chng_Q4_Q1</th>\n",
              "      <th>Avg_Utilization_Ratio</th>\n",
              "      <th>Naive_Bayes_Classifier_Attrition_Flag_Card_Category_Contacts_Count_12_mon_Dependent_count_Education_Level_Months_Inactive_12_mon_1</th>\n",
              "      <th>Naive_Bayes_Classifier_Attrition_Flag_Card_Category_Contacts_Count_12_mon_Dependent_count_Education_Level_Months_Inactive_12_mon_2</th>\n",
              "    </tr>\n",
              "  </thead>\n",
              "  <tbody>\n",
              "    <tr>\n",
              "      <th>0</th>\n",
              "      <td>768805383</td>\n",
              "      <td>Existing Customer</td>\n",
              "      <td>45</td>\n",
              "      <td>M</td>\n",
              "      <td>3</td>\n",
              "      <td>High School</td>\n",
              "      <td>Married</td>\n",
              "      <td>$60K - $80K</td>\n",
              "      <td>Blue</td>\n",
              "      <td>39</td>\n",
              "      <td>...</td>\n",
              "      <td>12691.0</td>\n",
              "      <td>777</td>\n",
              "      <td>11914.0</td>\n",
              "      <td>1.335</td>\n",
              "      <td>1144</td>\n",
              "      <td>42</td>\n",
              "      <td>1.625</td>\n",
              "      <td>0.061</td>\n",
              "      <td>0.000093</td>\n",
              "      <td>0.99991</td>\n",
              "    </tr>\n",
              "    <tr>\n",
              "      <th>1</th>\n",
              "      <td>818770008</td>\n",
              "      <td>Existing Customer</td>\n",
              "      <td>49</td>\n",
              "      <td>F</td>\n",
              "      <td>5</td>\n",
              "      <td>Graduate</td>\n",
              "      <td>Single</td>\n",
              "      <td>Less than $40K</td>\n",
              "      <td>Blue</td>\n",
              "      <td>44</td>\n",
              "      <td>...</td>\n",
              "      <td>8256.0</td>\n",
              "      <td>864</td>\n",
              "      <td>7392.0</td>\n",
              "      <td>1.541</td>\n",
              "      <td>1291</td>\n",
              "      <td>33</td>\n",
              "      <td>3.714</td>\n",
              "      <td>0.105</td>\n",
              "      <td>0.000057</td>\n",
              "      <td>0.99994</td>\n",
              "    </tr>\n",
              "    <tr>\n",
              "      <th>2</th>\n",
              "      <td>713982108</td>\n",
              "      <td>Existing Customer</td>\n",
              "      <td>51</td>\n",
              "      <td>M</td>\n",
              "      <td>3</td>\n",
              "      <td>Graduate</td>\n",
              "      <td>Married</td>\n",
              "      <td>$80K - $120K</td>\n",
              "      <td>Blue</td>\n",
              "      <td>36</td>\n",
              "      <td>...</td>\n",
              "      <td>3418.0</td>\n",
              "      <td>0</td>\n",
              "      <td>3418.0</td>\n",
              "      <td>2.594</td>\n",
              "      <td>1887</td>\n",
              "      <td>20</td>\n",
              "      <td>2.333</td>\n",
              "      <td>0.000</td>\n",
              "      <td>0.000021</td>\n",
              "      <td>0.99998</td>\n",
              "    </tr>\n",
              "    <tr>\n",
              "      <th>3</th>\n",
              "      <td>769911858</td>\n",
              "      <td>Existing Customer</td>\n",
              "      <td>40</td>\n",
              "      <td>F</td>\n",
              "      <td>4</td>\n",
              "      <td>High School</td>\n",
              "      <td>Unknown</td>\n",
              "      <td>Less than $40K</td>\n",
              "      <td>Blue</td>\n",
              "      <td>34</td>\n",
              "      <td>...</td>\n",
              "      <td>3313.0</td>\n",
              "      <td>2517</td>\n",
              "      <td>796.0</td>\n",
              "      <td>1.405</td>\n",
              "      <td>1171</td>\n",
              "      <td>20</td>\n",
              "      <td>2.333</td>\n",
              "      <td>0.760</td>\n",
              "      <td>0.000134</td>\n",
              "      <td>0.99987</td>\n",
              "    </tr>\n",
              "    <tr>\n",
              "      <th>4</th>\n",
              "      <td>709106358</td>\n",
              "      <td>Existing Customer</td>\n",
              "      <td>40</td>\n",
              "      <td>M</td>\n",
              "      <td>3</td>\n",
              "      <td>Uneducated</td>\n",
              "      <td>Married</td>\n",
              "      <td>$60K - $80K</td>\n",
              "      <td>Blue</td>\n",
              "      <td>21</td>\n",
              "      <td>...</td>\n",
              "      <td>4716.0</td>\n",
              "      <td>0</td>\n",
              "      <td>4716.0</td>\n",
              "      <td>2.175</td>\n",
              "      <td>816</td>\n",
              "      <td>28</td>\n",
              "      <td>2.500</td>\n",
              "      <td>0.000</td>\n",
              "      <td>0.000022</td>\n",
              "      <td>0.99998</td>\n",
              "    </tr>\n",
              "  </tbody>\n",
              "</table>\n",
              "<p>5 rows × 23 columns</p>\n",
              "</div>\n",
              "    <div class=\"colab-df-buttons\">\n",
              "\n",
              "  <div class=\"colab-df-container\">\n",
              "    <button class=\"colab-df-convert\" onclick=\"convertToInteractive('df-70686c05-1ccb-4a18-9927-ac8900cd2e24')\"\n",
              "            title=\"Convert this dataframe to an interactive table.\"\n",
              "            style=\"display:none;\">\n",
              "\n",
              "  <svg xmlns=\"http://www.w3.org/2000/svg\" height=\"24px\" viewBox=\"0 -960 960 960\">\n",
              "    <path d=\"M120-120v-720h720v720H120Zm60-500h600v-160H180v160Zm220 220h160v-160H400v160Zm0 220h160v-160H400v160ZM180-400h160v-160H180v160Zm440 0h160v-160H620v160ZM180-180h160v-160H180v160Zm440 0h160v-160H620v160Z\"/>\n",
              "  </svg>\n",
              "    </button>\n",
              "\n",
              "  <style>\n",
              "    .colab-df-container {\n",
              "      display:flex;\n",
              "      gap: 12px;\n",
              "    }\n",
              "\n",
              "    .colab-df-convert {\n",
              "      background-color: #E8F0FE;\n",
              "      border: none;\n",
              "      border-radius: 50%;\n",
              "      cursor: pointer;\n",
              "      display: none;\n",
              "      fill: #1967D2;\n",
              "      height: 32px;\n",
              "      padding: 0 0 0 0;\n",
              "      width: 32px;\n",
              "    }\n",
              "\n",
              "    .colab-df-convert:hover {\n",
              "      background-color: #E2EBFA;\n",
              "      box-shadow: 0px 1px 2px rgba(60, 64, 67, 0.3), 0px 1px 3px 1px rgba(60, 64, 67, 0.15);\n",
              "      fill: #174EA6;\n",
              "    }\n",
              "\n",
              "    .colab-df-buttons div {\n",
              "      margin-bottom: 4px;\n",
              "    }\n",
              "\n",
              "    [theme=dark] .colab-df-convert {\n",
              "      background-color: #3B4455;\n",
              "      fill: #D2E3FC;\n",
              "    }\n",
              "\n",
              "    [theme=dark] .colab-df-convert:hover {\n",
              "      background-color: #434B5C;\n",
              "      box-shadow: 0px 1px 3px 1px rgba(0, 0, 0, 0.15);\n",
              "      filter: drop-shadow(0px 1px 2px rgba(0, 0, 0, 0.3));\n",
              "      fill: #FFFFFF;\n",
              "    }\n",
              "  </style>\n",
              "\n",
              "    <script>\n",
              "      const buttonEl =\n",
              "        document.querySelector('#df-70686c05-1ccb-4a18-9927-ac8900cd2e24 button.colab-df-convert');\n",
              "      buttonEl.style.display =\n",
              "        google.colab.kernel.accessAllowed ? 'block' : 'none';\n",
              "\n",
              "      async function convertToInteractive(key) {\n",
              "        const element = document.querySelector('#df-70686c05-1ccb-4a18-9927-ac8900cd2e24');\n",
              "        const dataTable =\n",
              "          await google.colab.kernel.invokeFunction('convertToInteractive',\n",
              "                                                    [key], {});\n",
              "        if (!dataTable) return;\n",
              "\n",
              "        const docLinkHtml = 'Like what you see? Visit the ' +\n",
              "          '<a target=\"_blank\" href=https://colab.research.google.com/notebooks/data_table.ipynb>data table notebook</a>'\n",
              "          + ' to learn more about interactive tables.';\n",
              "        element.innerHTML = '';\n",
              "        dataTable['output_type'] = 'display_data';\n",
              "        await google.colab.output.renderOutput(dataTable, element);\n",
              "        const docLink = document.createElement('div');\n",
              "        docLink.innerHTML = docLinkHtml;\n",
              "        element.appendChild(docLink);\n",
              "      }\n",
              "    </script>\n",
              "  </div>\n",
              "\n",
              "\n",
              "<div id=\"df-99a6332f-3146-4783-b202-8f52ac4bf869\">\n",
              "  <button class=\"colab-df-quickchart\" onclick=\"quickchart('df-99a6332f-3146-4783-b202-8f52ac4bf869')\"\n",
              "            title=\"Suggest charts\"\n",
              "            style=\"display:none;\">\n",
              "\n",
              "<svg xmlns=\"http://www.w3.org/2000/svg\" height=\"24px\"viewBox=\"0 0 24 24\"\n",
              "     width=\"24px\">\n",
              "    <g>\n",
              "        <path d=\"M19 3H5c-1.1 0-2 .9-2 2v14c0 1.1.9 2 2 2h14c1.1 0 2-.9 2-2V5c0-1.1-.9-2-2-2zM9 17H7v-7h2v7zm4 0h-2V7h2v10zm4 0h-2v-4h2v4z\"/>\n",
              "    </g>\n",
              "</svg>\n",
              "  </button>\n",
              "\n",
              "<style>\n",
              "  .colab-df-quickchart {\n",
              "      --bg-color: #E8F0FE;\n",
              "      --fill-color: #1967D2;\n",
              "      --hover-bg-color: #E2EBFA;\n",
              "      --hover-fill-color: #174EA6;\n",
              "      --disabled-fill-color: #AAA;\n",
              "      --disabled-bg-color: #DDD;\n",
              "  }\n",
              "\n",
              "  [theme=dark] .colab-df-quickchart {\n",
              "      --bg-color: #3B4455;\n",
              "      --fill-color: #D2E3FC;\n",
              "      --hover-bg-color: #434B5C;\n",
              "      --hover-fill-color: #FFFFFF;\n",
              "      --disabled-bg-color: #3B4455;\n",
              "      --disabled-fill-color: #666;\n",
              "  }\n",
              "\n",
              "  .colab-df-quickchart {\n",
              "    background-color: var(--bg-color);\n",
              "    border: none;\n",
              "    border-radius: 50%;\n",
              "    cursor: pointer;\n",
              "    display: none;\n",
              "    fill: var(--fill-color);\n",
              "    height: 32px;\n",
              "    padding: 0;\n",
              "    width: 32px;\n",
              "  }\n",
              "\n",
              "  .colab-df-quickchart:hover {\n",
              "    background-color: var(--hover-bg-color);\n",
              "    box-shadow: 0 1px 2px rgba(60, 64, 67, 0.3), 0 1px 3px 1px rgba(60, 64, 67, 0.15);\n",
              "    fill: var(--button-hover-fill-color);\n",
              "  }\n",
              "\n",
              "  .colab-df-quickchart-complete:disabled,\n",
              "  .colab-df-quickchart-complete:disabled:hover {\n",
              "    background-color: var(--disabled-bg-color);\n",
              "    fill: var(--disabled-fill-color);\n",
              "    box-shadow: none;\n",
              "  }\n",
              "\n",
              "  .colab-df-spinner {\n",
              "    border: 2px solid var(--fill-color);\n",
              "    border-color: transparent;\n",
              "    border-bottom-color: var(--fill-color);\n",
              "    animation:\n",
              "      spin 1s steps(1) infinite;\n",
              "  }\n",
              "\n",
              "  @keyframes spin {\n",
              "    0% {\n",
              "      border-color: transparent;\n",
              "      border-bottom-color: var(--fill-color);\n",
              "      border-left-color: var(--fill-color);\n",
              "    }\n",
              "    20% {\n",
              "      border-color: transparent;\n",
              "      border-left-color: var(--fill-color);\n",
              "      border-top-color: var(--fill-color);\n",
              "    }\n",
              "    30% {\n",
              "      border-color: transparent;\n",
              "      border-left-color: var(--fill-color);\n",
              "      border-top-color: var(--fill-color);\n",
              "      border-right-color: var(--fill-color);\n",
              "    }\n",
              "    40% {\n",
              "      border-color: transparent;\n",
              "      border-right-color: var(--fill-color);\n",
              "      border-top-color: var(--fill-color);\n",
              "    }\n",
              "    60% {\n",
              "      border-color: transparent;\n",
              "      border-right-color: var(--fill-color);\n",
              "    }\n",
              "    80% {\n",
              "      border-color: transparent;\n",
              "      border-right-color: var(--fill-color);\n",
              "      border-bottom-color: var(--fill-color);\n",
              "    }\n",
              "    90% {\n",
              "      border-color: transparent;\n",
              "      border-bottom-color: var(--fill-color);\n",
              "    }\n",
              "  }\n",
              "</style>\n",
              "\n",
              "  <script>\n",
              "    async function quickchart(key) {\n",
              "      const quickchartButtonEl =\n",
              "        document.querySelector('#' + key + ' button');\n",
              "      quickchartButtonEl.disabled = true;  // To prevent multiple clicks.\n",
              "      quickchartButtonEl.classList.add('colab-df-spinner');\n",
              "      try {\n",
              "        const charts = await google.colab.kernel.invokeFunction(\n",
              "            'suggestCharts', [key], {});\n",
              "      } catch (error) {\n",
              "        console.error('Error during call to suggestCharts:', error);\n",
              "      }\n",
              "      quickchartButtonEl.classList.remove('colab-df-spinner');\n",
              "      quickchartButtonEl.classList.add('colab-df-quickchart-complete');\n",
              "    }\n",
              "    (() => {\n",
              "      let quickchartButtonEl =\n",
              "        document.querySelector('#df-99a6332f-3146-4783-b202-8f52ac4bf869 button');\n",
              "      quickchartButtonEl.style.display =\n",
              "        google.colab.kernel.accessAllowed ? 'block' : 'none';\n",
              "    })();\n",
              "  </script>\n",
              "</div>\n",
              "\n",
              "    </div>\n",
              "  </div>\n"
            ],
            "application/vnd.google.colaboratory.intrinsic+json": {
              "type": "dataframe",
              "variable_name": "datos"
            }
          },
          "metadata": {},
          "execution_count": 5
        }
      ]
    },
    {
      "cell_type": "code",
      "source": [
        "datos = datos.drop(['Naive_Bayes_Classifier_Attrition_Flag_Card_Category_Contacts_Count_12_mon_Dependent_count_Education_Level_Months_Inactive_12_mon_1',\n",
        "                    'Naive_Bayes_Classifier_Attrition_Flag_Card_Category_Contacts_Count_12_mon_Dependent_count_Education_Level_Months_Inactive_12_mon_2'],\n",
        "                   axis=1)"
      ],
      "metadata": {
        "id": "XrT1KGzxgJ91"
      },
      "execution_count": null,
      "outputs": []
    },
    {
      "cell_type": "markdown",
      "source": [
        "##RECORTE DE VARIABLES:\n",
        "\n",
        "Las variables\n",
        "\n",
        "***\"Naive_Bayes_Classifier_Attrition_Flag_Card_Category_Contacts_Count_12_mon_Dependent_count_Education_Level_Months_Inactive_12_mon_1\" ***\n",
        "\n",
        "y\n",
        "\n",
        "***\"Naive_Bayes_Classifier_Attrition_Flag_Card_Category_Contacts_Count_12_mon_Dependent_count_Education_Level_Months_Inactive_12_mon_2\" ***\n",
        "\n",
        "no son relevantes para el análisis del abandono de clientes en servicios de tarjetas de crédito. Estas variables son utilizadas internamente por un modelo de Machine Learning específico para calcular ciertas métricas o realizar predicciones. Como resultado, no proporcionan información directa sobre los clientes o su comportamiento en relación con el abandono de servicios de tarjetas de crédito. Por lo tanto, se han desestimado de nuestro análisis para enfocarnos en las variables que sí están directamente relacionadas con el tema en cuestión\n",
        "\n"
      ],
      "metadata": {
        "id": "aY503h7pX4Qr"
      }
    },
    {
      "cell_type": "code",
      "source": [
        "print(\"Valores nulos por columna:\")\n",
        "print(datos.isnull().sum())"
      ],
      "metadata": {
        "colab": {
          "base_uri": "https://localhost:8080/"
        },
        "id": "FSyAv-dcUeE5",
        "outputId": "d53ad84d-58c8-4190-9b4e-b444040afcd8"
      },
      "execution_count": null,
      "outputs": [
        {
          "output_type": "stream",
          "name": "stdout",
          "text": [
            "Valores nulos por columna:\n",
            "CLIENTNUM                   0\n",
            "Attrition_Flag              0\n",
            "Customer_Age                0\n",
            "Gender                      0\n",
            "Dependent_count             0\n",
            "Education_Level             0\n",
            "Marital_Status              0\n",
            "Income_Category             0\n",
            "Card_Category               0\n",
            "Months_on_book              0\n",
            "Total_Relationship_Count    0\n",
            "Months_Inactive_12_mon      0\n",
            "Contacts_Count_12_mon       0\n",
            "Credit_Limit                0\n",
            "Total_Revolving_Bal         0\n",
            "Avg_Open_To_Buy             0\n",
            "Total_Amt_Chng_Q4_Q1        0\n",
            "Total_Trans_Amt             0\n",
            "Total_Trans_Ct              0\n",
            "Total_Ct_Chng_Q4_Q1         0\n",
            "Avg_Utilization_Ratio       0\n",
            "dtype: int64\n"
          ]
        }
      ]
    },
    {
      "cell_type": "markdown",
      "source": [
        "##RESULTADO DE LA COMPROBACION DE VALORES AUSENTES/NULOS:\n",
        "\n",
        "Se procedió a verificar si el dataset elegido contiene valores ausentes/nulos, de la cual se obtuvo como resultado que ninguna de sus celdas posee este tipo de valores."
      ],
      "metadata": {
        "id": "FJPMyMsligTY"
      }
    },
    {
      "cell_type": "markdown",
      "source": [
        "#VISUALIZACIONES\n",
        "\n"
      ],
      "metadata": {
        "id": "oMmarDc5jrvP"
      }
    },
    {
      "cell_type": "code",
      "source": [
        "import matplotlib.pyplot as plt\n",
        "import seaborn as sns"
      ],
      "metadata": {
        "id": "6xEZS_nIqq-1"
      },
      "execution_count": null,
      "outputs": []
    },
    {
      "cell_type": "markdown",
      "source": [
        "#1_ GRAFICO DE BARRA DE LA TASA DE ABANDONO POR GRUPO DE EDAD"
      ],
      "metadata": {
        "id": "99m93l2HOldu"
      }
    },
    {
      "cell_type": "markdown",
      "source": [
        "#HIPOTESIS ASOCIADA:\n",
        "\n",
        "HIPOTESIS N°1: Los clientes más jóvenes tienen una mayor probabilidad de abandonar el servicio de\n",
        "tarjeta de crédito, ya que pueden ser más propensos a cambiar de proveedor en busca de mejores ofertas o beneficios.\n",
        "\n",
        "Para validar o rechazar la hipótesis de que los clientes más jóvenes tienen una mayor probabilidad de abandonar el servicio de tarjeta de crédito, primero se calcula la tasa de abandono para diferentes grupos de edad utilizando la columna 'Customer_Age' para agrupar a los clientes. Luego, se convierten los valores de la columna 'Attrition_Flag' en valores numéricos para poder calcular la tasa de abandono. Finalmente, se visualiza la tasa de abandono por grupo de edad en un gráfico de barras. Si la tasa de abandono es más alta en los grupos de edad más jóvenes, esto respaldaría la hipótesis planteada."
      ],
      "metadata": {
        "id": "gu_QsD2jOCtC"
      }
    },
    {
      "cell_type": "code",
      "source": [
        "bins = [18, 25, 35, 45, 55, 65, 75, 85]"
      ],
      "metadata": {
        "id": "mu3UefOmNHKV"
      },
      "execution_count": null,
      "outputs": []
    },
    {
      "cell_type": "code",
      "source": [
        "labels = ['18-25', '26-35', '36-45', '46-55', '56-65', '66-75', '76-85']"
      ],
      "metadata": {
        "id": "kJFFxOyD7gl2"
      },
      "execution_count": null,
      "outputs": []
    },
    {
      "cell_type": "code",
      "source": [
        "datos['Age_Group'] = pd.cut(datos['Customer_Age'], bins=bins, labels=labels, right=False)"
      ],
      "metadata": {
        "id": "bjVHspMZ7jcJ"
      },
      "execution_count": null,
      "outputs": []
    },
    {
      "cell_type": "code",
      "source": [
        "print(datos[['Customer_Age', 'Age_Group']].head(10))"
      ],
      "metadata": {
        "colab": {
          "base_uri": "https://localhost:8080/"
        },
        "id": "6YNj_iCd7ppb",
        "outputId": "10e4bc19-4f0d-4e5e-faaf-bf516db230d4"
      },
      "execution_count": null,
      "outputs": [
        {
          "output_type": "stream",
          "name": "stdout",
          "text": [
            "   Customer_Age Age_Group\n",
            "0            45     46-55\n",
            "1            49     46-55\n",
            "2            51     46-55\n",
            "3            40     36-45\n",
            "4            40     36-45\n",
            "5            44     36-45\n",
            "6            51     46-55\n",
            "7            32     26-35\n",
            "8            37     36-45\n",
            "9            48     46-55\n"
          ]
        }
      ]
    },
    {
      "cell_type": "code",
      "source": [
        "datos['Attrition_Flag'] = datos['Attrition_Flag'].replace({'Existing Customer': 0, 'Attrited Customer': 1})"
      ],
      "metadata": {
        "id": "irLFIF6589_w"
      },
      "execution_count": null,
      "outputs": []
    },
    {
      "cell_type": "code",
      "source": [
        "abandon_rate = datos.groupby('Age_Group')['Attrition_Flag'].mean()"
      ],
      "metadata": {
        "id": "uR37RnrB8_We"
      },
      "execution_count": null,
      "outputs": []
    },
    {
      "cell_type": "code",
      "source": [
        "plt.figure(figsize=(12, 6))\n",
        "plt.bar(abandon_rate.index, abandon_rate.values)\n",
        "plt.xlabel('Grupo de Edad')\n",
        "plt.ylabel('Tasa de Abandono')\n",
        "plt.title('Tasa de Abandono por Grupo de Edad')\n",
        "plt.show()"
      ],
      "metadata": {
        "colab": {
          "base_uri": "https://localhost:8080/",
          "height": 564
        },
        "id": "9d65xBpG9HbG",
        "outputId": "db0e7bb5-b8d5-4513-da67-9d59e9d90a55"
      },
      "execution_count": null,
      "outputs": [
        {
          "output_type": "display_data",
          "data": {
            "text/plain": [
              "<Figure size 1200x600 with 1 Axes>"
            ],
            "image/png": "[encoded data removed]"
          },
          "metadata": {}
        }
      ]
    },
    {
      "cell_type": "markdown",
      "source": [
        "\n",
        "\n",
        "\n",
        "Basándonos en los datos observados en el gráfico de tasa de abandono por grupo de edad, podemos identificar patrones significativos que respaldan la hipótesis de que los clientes más jóvenes tienen una mayor probabilidad de abandonar el servicio de tarjeta de crédito.\n",
        "\n",
        "Se observa que el grupo de edad de 26 a 35 años tiene una tasa de abandono cercana al 14%, seguido por el grupo de 36 a 45 años con una tasa cercana al 16%. A medida que aumenta la edad, la tasa de abandono se mantiene relativamente constante en los grupos de 46 a 55 años y de 56 a 65 años, ligeramente por encima del 16%. Sin embargo, a partir del grupo de 66 a 75 años, la tasa de abandono disminuye drásticamente, cayendo por debajo del 10%.\n",
        "\n",
        "Estos datos sugieren que los clientes más jóvenes, especialmente aquellos entre 26 y 45 años, son más propensos a abandonar el servicio de tarjeta de crédito en busca de mejores ofertas o beneficios. Por otro lado, los clientes de mayor edad, especialmente aquellos mayores de 65 años, muestran una mayor lealtad y una menor disposición a cambiar de proveedor. Estos hallazgos respaldan la hipótesis inicial y destacan la importancia de implementar estrategias de retención específicas para los clientes más jóvenes para mantener su fidelidad y satisfacción con el servicio."
      ],
      "metadata": {
        "id": "6yH-iL8E_fMo"
      }
    },
    {
      "cell_type": "markdown",
      "source": [
        "#2_GRAFICO DE BARRAS DE LA TASA DE ABANDONO POR CATEGORIA DE INGRESOS"
      ],
      "metadata": {
        "id": "8PCnRDopO_Ln"
      }
    },
    {
      "cell_type": "markdown",
      "source": [
        "#HIPOTESIS ASOCIADA:\n",
        "\n",
        "HIPOTESIS N°2: Los clientes con ingresos más altos pueden tener una menor\n",
        "probabilidad de abandonar el servicio, ya que pueden estar más satisfechos con los beneficios y servicios ofrecidos\n",
        "por la institución financiera.\n",
        "\n",
        "Para validar o rechazar la hipótesis de que los clientes con ingresos más altos pueden tener una menor probabilidad de abandonar el servicio de tarjeta de crédito, al igual que antes, podemos calcular las tasas de abandono para cada categoría de ingresos y luego visualizarlas en un gráfico de barras."
      ],
      "metadata": {
        "id": "DqJIT6DMPqZ7"
      }
    },
    {
      "cell_type": "code",
      "source": [
        "abandono_por_ingresos = datos.groupby('Income_Category')['Attrition_Flag'].mean()\n",
        "order = ['Less than $40K', '$40K - $60K', '$60K - $80K', '$80K - $120K', '$120K +']\n",
        "\n",
        "\n",
        "\n"
      ],
      "metadata": {
        "id": "2ci3ngTJUept"
      },
      "execution_count": null,
      "outputs": []
    },
    {
      "cell_type": "code",
      "source": [
        "plt.figure(figsize=(12, 6))\n",
        "sns.barplot(x=abandono_por_ingresos.index, y=abandono_por_ingresos.values, order=order)\n",
        "plt.xlabel('Categoría de Ingresos')\n",
        "plt.ylabel('Tasa de Abandono')\n",
        "plt.title('Tasa de Abandono por Categoría de Ingresos')\n",
        "plt.xticks(rotation=45)\n",
        "plt.show()"
      ],
      "metadata": {
        "colab": {
          "base_uri": "https://localhost:8080/",
          "height": 636
        },
        "id": "4--Iset2UlSa",
        "outputId": "f3dd0054-abfc-4eb8-fde4-0819fc2e81b2"
      },
      "execution_count": null,
      "outputs": [
        {
          "output_type": "display_data",
          "data": {
            "text/plain": [
              "<Figure size 1200x600 with 1 Axes>"
            ],
            "image/png": "[encoded data removed]"
          },
          "metadata": {}
        }
      ]
    },
    {
      "cell_type": "markdown",
      "source": [
        "Basándonos en los datos observados en el gráfico de tasa de abandono por categoría de ingresos, podemos identificar patrones significativos que sugieren que los clientes con ingresos más altos no siempre tienen una menor probabilidad de abandonar el servicio de tarjeta de crédito.\n",
        "\n",
        "Observamos que la tasa de abandono para los clientes con ingresos correspondientes al grupo Less than $40K es la más alta, casi del 17.5%. Esto podría indicar que los clientes con ingresos más bajos tienen una mayor probabilidad de abandonar el servicio.\n",
        "\n",
        "Por otro lado, los clientes con ingresos en el rango de 40K - 60K tienen una tasa de abandono ligeramente superior al 15%, mientras que aquellos en el rango de 60k - 80k presentan una tasa de abandono alrededor del 13.5%. Estos datos sugieren que a medida que los ingresos aumentan, la tasa de abandono tiende a disminuir, lo cual respalda parcialmente la hipótesis.\n",
        "\n",
        "Sin embargo, la tasa de abandono vuelve a aumentar para los clientes con ingresos en el rango de 80K - 120K, llegando a alrededor del 15.5%, solo algunos puntos por encima del grupo de 40K - 60K. Este repunte en la tasa de abandono podría indicar que otros factores además de los ingresos pueden influir en la decisión de un cliente de abandonar el servicio.\n",
        "\n",
        "Finalmente, para los clientes con ingresos de mas de 120K, la tasa de abandono vuelve a los valores iniciales de aproximadamente 17.5%, lo cual sugiere que tener ingresos más altos no necesariamente garantiza una menor probabilidad de abandono.\n",
        "\n",
        "En conclusión, si bien hay una tendencia a una menor tasa de abandono a medida que los ingresos aumentan hasta cierto punto, otros factores pueden influir significativamente en la decisión de un cliente de abandonar el servicio. Por lo tanto, la relación entre los ingresos y la probabilidad de abandono no es tan directa como sugiere la hipótesis. Se evaluara continuar profundizando en este aspecto del analisis en una etapa posterior.  \n"
      ],
      "metadata": {
        "id": "eKeQAdjIbfL2"
      }
    },
    {
      "cell_type": "markdown",
      "source": [
        "#3_GRAFICO DE BARRAS AGRUPADAS POR ESTADO CIVIL Y CATEGORIA DE ABANDONO\n",
        "\n",
        "#HIPOTESIS ASOCIADA:\n",
        "\n",
        "HIPOTESIS N°3: \"Los clientes solteros y divorciados pueden tener una mayor probabilidad de abandonar el servicio en comparación con los clientes casados, ya que pueden tener una menor estabilidad o compromiso con la institución financiera.\"\n",
        "\n",
        "Para validar o rechazar la hipótesis anterior, se procede a realizar un grafico de barras agrupadas donde se muestra la cantidad de clientes que abandonaron el servicio y los que no, agrupados por estado civil. Para la visualizacion se desestima el grupo Unknown de la variable Estado civil ya que no proporciona informacion de valor al analisis."
      ],
      "metadata": {
        "id": "dIxIrMkFfJ2t"
      }
    },
    {
      "cell_type": "code",
      "source": [
        "datos_filtrados = datos[datos['Marital_Status'] != 'Unknown']"
      ],
      "metadata": {
        "id": "PGue3AOUtzkb"
      },
      "execution_count": null,
      "outputs": []
    },
    {
      "cell_type": "code",
      "source": [
        "plt.figure(figsize=(12, 6))\n",
        "sns.countplot(data=datos_filtrados, x='Marital_Status', hue='Attrition_Flag', palette='Set2')\n",
        "plt.xlabel('Estado Civil')\n",
        "plt.ylabel('Cantidad de Clientes')\n",
        "plt.title('Cantidad de Clientes que Abandonaron el Servicio por Estado Civil')\n",
        "plt.legend(title='Attrition_Flag', labels=['Attrited customer', 'Existing customer'])\n",
        "plt.xticks(rotation=45)\n",
        "plt.show()"
      ],
      "metadata": {
        "colab": {
          "base_uri": "https://localhost:8080/",
          "height": 604
        },
        "id": "4z4tCWNaxn9L",
        "outputId": "ae91507c-11be-4c9a-eb40-40ac990012be"
      },
      "execution_count": null,
      "outputs": [
        {
          "output_type": "display_data",
          "data": {
            "text/plain": [
              "<Figure size 1200x600 with 1 Axes>"
            ],
            "image/png": "[encoded data removed]"
          },
          "metadata": {}
        }
      ]
    },
    {
      "cell_type": "markdown",
      "source": [
        "Basándonos en los datos observados en el gráfico de cantidad de clientes que abandonaron el servicio por estado civil, analizamos la hipótesis de que los clientes solteros y divorciados pueden tener una mayor probabilidad de abandonar el servicio en comparación con los clientes casados, ya que pueden tener una menor estabilidad o compromiso con la institución financiera.\n",
        "\n",
        "En primer lugar, al analizar el grupo de clientes casados, encontramos que aproximadamente 4000 clientes decidieron abandonar el servicio, mientras que 750 aún son clientes, lo cual arroja como resultado que el 84% de ellos decidieron abandonar el servicio de tarjeta de crédito. Esta cifra es significativamente alta, lo que sugiere que los clientes casados no necesariamente tienen una menor probabilidad de abandonar el servicio, como se planteaba en la hipótesis. Este resultado podría indicar que otros factores, además del estado civil, influyen en la decisión de abandonar el servicio\n",
        "\n",
        "Por otro lado, al analizar el grupo de clientes solteros, encontramos que la cantidad de clientes que abandonaron el servicio es menor, cercana a 3250, mientras que la cantidad de clientes existentes es bastante similar a la cantidad de clientes existentes en el grupo de casados, solo un poco por debajo de los 750. Vemos entonces que cerca del 81% de ellos abandonaron el servicio. Aunque la tasa de abandono es ligeramente menor que la de los clientes casados, sigue siendo bastante alta.\n",
        "\n",
        "En cuanto al grupo de clientes divorciados, observamos que la cantidad de clientes que abandonaron el servicio es bastante menor, rondando los 600, mientras que la cantidad de clientes existentes tambien baja considerablemente y se posiciona en torno a 100. Encontramos luego que aproximadamente el 86% de clientes abandonaron el servicio, lo que representa la tasa más alta de abandono entre los tres grupos analizados. Esto indica que los clientes divorciados tienen una probabilidad aún mayor de abandonar el servicio en comparación con los clientes casados y solteros, lo que avalaria parcialmenten la hipótesis planteada.\n",
        "\n",
        "En resumen, los datos sugieren que el estado civil por sí solo no determina la probabilidad de abandono del servicio de tarjeta de crédito. Otros factores, como la estabilidad y el compromiso con la institución financiera y posiblemente otros aspectos personales y económicos, también pueden influir en la decisión de un cliente de abandonar el servicio."
      ],
      "metadata": {
        "id": "jbhedu9AzzAm"
      }
    },
    {
      "cell_type": "markdown",
      "source": [
        "EN UNA ETAPA POSTERIOR SE CONTINUARA TRABAJANDO CON LAS HIPOTESIS RESTANTES, A FIN DE OBTENER INFORMACION ADICIONAL PARA EL PROYECTO."
      ],
      "metadata": {
        "id": "6ly1ZxF9JPgz"
      }
    }
  ]
}