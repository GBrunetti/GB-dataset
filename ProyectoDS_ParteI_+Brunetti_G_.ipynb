{
  "nbformat": 4,
  "nbformat_minor": 0,
  "metadata": {
    "colab": {
      "provenance": [],
      "authorship_tag": "ABX9TyOIW8w+PSlWvHr6z1oSv/cM",
      "include_colab_link": true
    },
    "kernelspec": {
      "name": "python3",
      "display_name": "Python 3"
    },
    "language_info": {
      "name": "python"
    }
  },
  "cells": [
    {
      "cell_type": "markdown",
      "metadata": {
        "id": "view-in-github",
        "colab_type": "text"
      },
      "source": [
        "<a href=\"https://colab.research.google.com/github/GBrunetti/GB-dataset/blob/main/ProyectoDS_ParteI_%2BBrunetti_G_.ipynb\" target=\"_parent\"><img src=\"https://colab.research.google.com/assets/colab-badge.svg\" alt=\"Open In Colab\"/></a>"
      ]
    },
    {
      "cell_type": "markdown",
      "source": [
        "#DATASET ELEGIDO\n",
        "- BankChurners.csv\n",
        "\n",
        "# TEMA : ANÁLISIS Y PREDICCIÓN DE ABANDONO DE CLIENTES EN SERVICIOS DE TARJETAS DE CRÉDITO\n",
        "\n",
        "#*Abstract:*\n",
        "\n",
        "En la actualidad, la retención de clientes es un desafío clave para las empresas, especialmente en el\n",
        "sector de servicios financieros como el de tarjetas de crédito. El abandono de clientes, también conocido\n",
        "como churn, puede tener un impacto significativo en la rentabilidad y la reputación de una empresa. Por\n",
        "lo tanto, es crucial para las mismas comprender los factores que influyen en la decisión de un cliente de\n",
        "abandonar un servicio, a fin de desarrollar, por tanto,  estrategias proactivas y efectivas para prevenirlo.\n",
        "\n",
        "En este contexto, este trabajo se enfoca en el análisis y la predicción del abandonode clientes en servicios\n",
        "de tarjetas de crédito. El dataset seleccionado para dicho análisis contiene información detallada sobre\n",
        "10,000 clientes de una institución bancaria, incluyendo variables como edad, ingresos, estado civil, límite\n",
        "crédito, categoría de tarjeta de crédito, entre otros.\n",
        "\n",
        "El objetivo principal de este trabajo es desarrollar un modelo predictivo que pueda identificar con precisión\n",
        "a los clientes que tienen mayor probabilidad de abandonar el servicio. Para lograr esto, se realizará un\n",
        "análisis exhaustivo de las variables del dataset y su relación con la variable objetivo, Attrition_Flag, que\n",
        "indica si un cliente ha abandonado o no el servicio de tarjeta de crédito.\n",
        "\n",
        "Entre las variables más relevantes se encuentran la edad del cliente, la categoría de ingresos, el estado civil,\n",
        "el límite de crédito y la categoría de tarjeta de crédito. Estas variables proporcionan información valiosa para\n",
        "comprender el comportamiento de los clientes y su propensión al abandono.\n",
        "\n",
        "El dataset se obtuvo de una fuente confiable y está compuesto por aproximadamente el 16.07% de clientes que han\n",
        "abandonado el servicio, lo que presenta un desafío interesante para el entrenamiento del modelo predictivo.\n",
        "\n",
        "El objetivo del estudio cae por decantacion; se espera que este análisis y modelo predictivo pueda ser utilizado\n",
        "por la institución bancaria, a fin de tomar medidas proactivas no solo para retener a sus clientes,  sino tambien\n",
        "mejorar la satisfacción del mismo en general, lo que resultará en una mayor fidelizacion y, por tanto, un aumento\n",
        "en la rentabilidad.\n",
        "\n",
        "Concluyendo, el presente trabajo proporcionará una visión profunda sobre el abandono de clientes en servicios de\n",
        "tarjetas de crédito, y cómo las empresas pueden utilizar esta información para mejorar su retención de clientes y\n",
        "por consiguiente su desempeño financiero.\n",
        "\n",
        "##PLANTEO DE ALGUNAS HIPÓTESIS DE INTERES SOBRE EL DATASET ELEGIDO\n",
        "1.\tHipótesis sobre la edad: Los clientes más jóvenes tienen una mayor probabilidad de abandonar el servicio de\n",
        "tarjeta de crédito, ya que pueden ser más propensos a cambiar de proveedor en busca de mejores ofertas o beneficios.\n",
        "\n",
        "2.\tHipótesis sobre la categoría de ingresos: Los clientes con ingresos más altos pueden tener una menor\n",
        "probabilidad de abandonar el servicio, ya que pueden estar más satisfechos con los beneficios y servicios ofrecidos\n",
        "por la institución financiera.\n",
        "\n",
        "3.\tHipótesis sobre el estado civil: Los clientes solteros pueden tener una mayor probabilidad de abandonar el\n",
        "servicio en comparación con los clientes casados o en una relación, ya que pueden tener una menor estabilidad\n",
        "financiera o menor compromiso con la institución financiera.\n",
        "\n",
        "4.\tHipótesis sobre el límite de crédito: Los clientes con un límite de crédito más alto pueden tener una menor\n",
        "probabilidad de abandonar el servicio, ya que pueden estar más satisfechos con su capacidad de crédito y los beneficios\n",
        "asociados.\n",
        "\n",
        "5.\tHipótesis sobre la categoría de tarjeta de crédito: Los clientes con una categoría de tarjeta de crédito más alta\n",
        "por ejemplo, platino o dorada pueden tener una menor probabilidad de abandonar el servicio, ya que pueden valorar los\n",
        "beneficios adicionales asociados con estas categorias."
      ],
      "metadata": {
        "id": "NIw3fuW4dqfb"
      }
    },
    {
      "cell_type": "code",
      "source": [
        "import pandas as pd"
      ],
      "metadata": {
        "id": "szxu7BFoNlqK"
      },
      "execution_count": 1,
      "outputs": []
    },
    {
      "cell_type": "code",
      "source": [
        "url = 'https://raw.githubusercontent.com/tu_usuario/tu_repositorio/ruta/al/archivo.csv'\n"
      ],
      "metadata": {
        "id": "uCD1Z12kRY2w"
      },
      "execution_count": null,
      "outputs": []
    }
  ]
}